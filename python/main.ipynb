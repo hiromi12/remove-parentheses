{
 "cells": [
  {
   "cell_type": "markdown",
   "metadata": {},
   "source": [
    "## Code of Hour 1\n",
    "10-18-2023\n",
    "#### Given a string s of '(', ')' and lowercase of English characters. Your task is to remove the minimum number of parentheses so that the resoulting parentheses string is valid and retun any valid string."
   ]
  },
  {
   "cell_type": "code",
   "execution_count": 2,
   "metadata": {},
   "outputs": [
    {
     "name": "stdout",
     "output_type": "stream",
     "text": [
      "Valid String: ab(c)(d())\n"
     ]
    }
   ],
   "source": [
    "def remove_parentheses(s):\n",
    "    stack = []\n",
    "    result = list(s)\n",
    "    for i in range(len(s)):\n",
    "        if s[i] == '(':\n",
    "            stack.append(i)\n",
    "        elif s[i] == ')':\n",
    "            if stack:\n",
    "                stack.pop()\n",
    "            else:\n",
    "                result[i] = ''\n",
    "\n",
    "    for index in stack:\n",
    "        result[index] = ''\n",
    "\n",
    "    return ''.join(result).replace('', '')\n",
    "\n",
    "s = \"a)b(c)(d())\"  # input string\n",
    "result = remove_parentheses(s)\n",
    "print(\"Valid String:\", result)"
   ]
  },
  {
   "cell_type": "code",
   "execution_count": null,
   "metadata": {},
   "outputs": [],
   "source": []
  }
 ],
 "metadata": {
  "kernelspec": {
   "display_name": "Python 3",
   "language": "python",
   "name": "python3"
  },
  "language_info": {
   "codemirror_mode": {
    "name": "ipython",
    "version": 3
   },
   "file_extension": ".py",
   "mimetype": "text/x-python",
   "name": "python",
   "nbconvert_exporter": "python",
   "pygments_lexer": "ipython3",
   "version": "3.10.4"
  },
  "orig_nbformat": 4
 },
 "nbformat": 4,
 "nbformat_minor": 2
}
